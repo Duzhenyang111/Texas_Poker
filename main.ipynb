{
 "cells": [
  {
   "cell_type": "code",
   "execution_count": 1,
   "metadata": {},
   "outputs": [
    {
     "name": "stdout",
     "output_type": "stream",
     "text": [
      "Player 1: ['3 of Diamonds', '2 of Clubs']\n",
      "Player 2: ['9 of Clubs', '10 of Diamonds']\n",
      "Bot: ['4 of Spades', '3 of Clubs']\n"
     ]
    }
   ],
   "source": [
    "import random\n",
    "\n",
    "# Define card ranks and suits\n",
    "ranks = '2 3 4 5 6 7 8 9 10 J Q K A'.split()\n",
    "suits = 'Hearts Diamonds Clubs Spades'.split()\n",
    "\n",
    "# Create a deck of cards\n",
    "deck = [f'{rank} of {suit}' for rank in ranks for suit in suits]\n",
    "random.shuffle(deck)\n",
    "\n",
    "# Function to deal cards\n",
    "def deal_cards(num_players):\n",
    "    hands = {f'Player {i+1}': [deck.pop(), deck.pop()] for i in range(num_players)}\n",
    "    return hands\n",
    "\n",
    "# Function to add a bot\n",
    "def add_bot(hands):\n",
    "    bot_hand = [deck.pop(), deck.pop()]\n",
    "    hands['Bot'] = bot_hand\n",
    "    return hands\n",
    "\n",
    "# Function to display hands\n",
    "def display_hands(hands):\n",
    "    for player, hand in hands.items():\n",
    "        print(f'{player}: {hand}')\n",
    "\n",
    "# Main game function\n",
    "def play_poker(num_players):\n",
    "    hands = deal_cards(num_players)\n",
    "    hands = add_bot(hands)\n",
    "    display_hands(hands)\n",
    "\n",
    "# Example usage\n",
    "num_players = 2  # Number of human players\n",
    "play_poker(num_players)"
   ]
  }
 ],
 "metadata": {
  "kernelspec": {
   "display_name": "BMAR",
   "language": "python",
   "name": "python3"
  },
  "language_info": {
   "name": "python",
   "version": "3.11.11"
  }
 },
 "nbformat": 4,
 "nbformat_minor": 2
}
